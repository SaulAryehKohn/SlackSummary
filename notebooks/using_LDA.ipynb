{
 "cells": [
  {
   "cell_type": "code",
   "execution_count": 1,
   "metadata": {},
   "outputs": [],
   "source": [
    "import logging\n",
    "from gensim import corpora, models, similarities\n",
    "import os \n",
    "from pprint import pprint\n",
    "import json\n",
    "import numpy as np\n",
    "import warnings\n",
    "import pyLDAvis\n",
    "warnings.filterwarnings('ignore')"
   ]
  },
  {
   "cell_type": "code",
   "execution_count": 4,
   "metadata": {},
   "outputs": [
    {
     "name": "stdout",
     "output_type": "stream",
     "text": [
      "Dictionary(100000 unique tokens: ['aa', 'aaa', 'aaaa', 'aaas', 'aab']...)\n",
      "MmCorpus(4424220 documents, 100000 features, 696218687 non-zero entries)\n",
      "LdaModel(num_terms=100000, num_topics=100, decay=0.5, chunksize=10000)\n"
     ]
    }
   ],
   "source": [
    "dictionary = corpora.Dictionary.load_from_text('../models/_wordids.txt.bz2')\n",
    "corpus = corpora.MmCorpus('../../../wikidump/_tfidf.mm.bz2')\n",
    "lda = models.ldamodel.LdaModel.load('../../../wikidump/enwiki_ldamodel.model')\n",
    "print(dictionary)\n",
    "print(corpus)\n",
    "print(lda)"
   ]
  },
  {
   "cell_type": "code",
   "execution_count": 21,
   "metadata": {},
   "outputs": [],
   "source": [
    "longer_dialogs_nlpd_cleaned_2 = pickle.load( open( \"longer_nlpd_cleaned_lemmatized_array.pkl\", \"rb\" ) )"
   ]
  },
  {
   "cell_type": "code",
   "execution_count": 47,
   "metadata": {},
   "outputs": [
    {
     "name": "stdout",
     "output_type": "stream",
     "text": [
      "[['story'], ['opera', 'scene'], ['love', 'name'], ['what', 'know', 'help'], ['notice', 'laura'], ['thing', 'time'], ['opera'], ['carmen', 'mind'], ['wife', 'grave', 'hand', 'someone'], ['actress', 'voice'], ['applause', 'time'], ['applause', 'show'], ['performance', 'lighting', 'music'], ['thing', 'phantom', 'show']]\n",
      "----------\n",
      "Topic0: 0.003*\"story\" + 0.003*\"plot\" + 0.003*\"novel\" + 0.002*\"book\" + 0.002*\"man\" + 0.002*\"mother\" + 0.002*\"love\" + 0.002*\"father\" + 0.002*\"woman\" + 0.002*\"you\"\n",
      "Topic1: 0.005*\"cast\" + 0.005*\"television\" + 0.005*\"episode\" + 0.004*\"award\" + 0.004*\"directed\" + 0.004*\"awards\" + 0.004*\"films\" + 0.004*\"festival\" + 0.004*\"actor\" + 0.004*\"tv\"\n",
      "Topic2: 0.011*\"orchestra\" + 0.011*\"opera\" + 0.009*\"composer\" + 0.008*\"piano\" + 0.006*\"dance\" + 0.006*\"symphony\" + 0.005*\"ballet\" + 0.005*\"conductor\" + 0.005*\"violin\" + 0.004*\"performed\"\n",
      "==========\n",
      "[['mother', 'video', 'game'], ['what'], ['hero', 'warrior', 'fight', 'guy', 'treasure'], ['guy'], ['one', 'monster', 'spider'], ['treasure'], ['dungeon', 'castle'], ['school', 'today']]\n",
      "----------\n",
      "Topic0: 0.020*\"game\" + 0.005*\"games\" + 0.005*\"gameplay\" + 0.005*\"player\" + 0.004*\"video\" + 0.004*\"anime\" + 0.003*\"manga\" + 0.003*\"reception\" + 0.003*\"gamer\" + 0.003*\"players\"\n",
      "Topic1: 0.010*\"castle\" + 0.009*\"king\" + 0.007*\"prince\" + 0.006*\"son\" + 0.006*\"count\" + 0.004*\"duke\" + 0.004*\"married\" + 0.004*\"daughter\" + 0.004*\"emperor\" + 0.004*\"iii\"\n",
      "Topic2: 0.003*\"story\" + 0.003*\"plot\" + 0.003*\"novel\" + 0.002*\"book\" + 0.002*\"man\" + 0.002*\"mother\" + 0.002*\"love\" + 0.002*\"father\" + 0.002*\"woman\" + 0.002*\"you\"\n",
      "Topic3: 0.031*\"species\" + 0.012*\"genus\" + 0.008*\"mm\" + 0.007*\"described\" + 0.006*\"flowers\" + 0.006*\"grows\" + 0.006*\"description\" + 0.005*\"marine\" + 0.005*\"endemic\" + 0.005*\"moth\"\n",
      "==========\n",
      "[['taxi'], ['railway', 'station'], ['door'], ['speed'], ['road'], ['time']]\n",
      "----------\n",
      "Topic0: 0.034*\"station\" + 0.031*\"railway\" + 0.012*\"road\" + 0.011*\"bridge\" + 0.010*\"route\" + 0.010*\"train\" + 0.010*\"express\" + 0.008*\"highway\" + 0.007*\"trains\" + 0.006*\"metro\"\n",
      "Topic1: 0.006*\"locomotives\" + 0.005*\"engine\" + 0.005*\"car\" + 0.005*\"design\" + 0.005*\"class\" + 0.004*\"locomotive\" + 0.004*\"electric\" + 0.004*\"speed\" + 0.003*\"cars\" + 0.003*\"vehicle\"\n",
      "==========\n",
      "[['judy']]\n",
      "----------\n",
      "Topic0: 0.003*\"david\" + 0.003*\"michael\" + 0.003*\"james\" + 0.002*\"série\" + 0.002*\"paul\" + 0.002*\"peakposition\" + 0.002*\"jack\" + 0.002*\"robert\" + 0.002*\"george\" + 0.002*\"smith\"\n",
      "==========\n",
      "[['student', 'cambridge', 'university', 'read', 'something', 'room'], ['bedroom', 'drawing', 'room', 'wood'], ['bathroom'], ['daughter', 'year'], ['afternoon', 'smith'], ['room', 'window', 'scene', 'bird'], ['something', 'room'], ['move']]\n",
      "----------\n",
      "Topic0: 0.003*\"story\" + 0.003*\"plot\" + 0.003*\"novel\" + 0.002*\"book\" + 0.002*\"man\" + 0.002*\"mother\" + 0.002*\"love\" + 0.002*\"father\" + 0.002*\"woman\" + 0.002*\"you\"\n",
      "Topic1: 0.017*\"historic\" + 0.016*\"building\" + 0.011*\"register\" + 0.009*\"listed\" + 0.008*\"places\" + 0.007*\"buildings\" + 0.006*\"street\" + 0.006*\"brick\" + 0.005*\"roof\" + 0.005*\"church\"\n",
      "Topic2: 0.005*\"married\" + 0.005*\"william\" + 0.004*\"sir\" + 0.004*\"london\" + 0.004*\"daughter\" + 0.004*\"son\" + 0.003*\"george\" + 0.003*\"thomas\" + 0.003*\"mary\" + 0.003*\"royal\"\n",
      "==========\n"
     ]
    }
   ],
   "source": [
    "import itertools\n",
    "for dlg in longer_dialogs_nlpd_cleaned_2[:5]:\n",
    "    lst = list(itertools.chain.from_iterable(dlg))\n",
    "    new_vec = dictionary.doc2bow(' '.join(lst).lower().split())\n",
    "    topics = sorted(lda.get_document_topics(new_vec), key=lambda x: x[1])[::-1]\n",
    "    print(dlg)\n",
    "    print('-'*10)\n",
    "    for i,topictuple in enumerate(topics):\n",
    "        print('Topic{0}:'.format(i),lda.print_topic(topictuple[0]))\n",
    "    print('='*10)"
   ]
  },
  {
   "cell_type": "code",
   "execution_count": 48,
   "metadata": {},
   "outputs": [
    {
     "data": {
      "text/plain": [
       "[(2, 0.4215166), (3, 0.41319248), (17, 0.11910049)]"
      ]
     },
     "execution_count": 48,
     "metadata": {},
     "output_type": "execute_result"
    }
   ],
   "source": [
    "topics"
   ]
  },
  {
   "cell_type": "code",
   "execution_count": 57,
   "metadata": {},
   "outputs": [],
   "source": [
    "topic_term_list = []\n",
    "for t in topics:\n",
    "    term_tuple_list = lda.get_topic_terms(t[0])\n",
    "    topic_term_list.append(term_tuple_list)"
   ]
  },
  {
   "cell_type": "code",
   "execution_count": 60,
   "metadata": {},
   "outputs": [],
   "source": [
    "import itertools\n",
    "topic_term_list_chain = list(itertools.chain.from_iterable(topic_term_list))"
   ]
  },
  {
   "cell_type": "code",
   "execution_count": 64,
   "metadata": {},
   "outputs": [],
   "source": [
    "top_5 = sorted(topic_term_list_chain, key=lambda x: x[1])[::-1][:5]"
   ]
  },
  {
   "cell_type": "code",
   "execution_count": 69,
   "metadata": {},
   "outputs": [
    {
     "data": {
      "text/plain": [
       "['historic', 'building', 'register', 'listed', 'places']"
      ]
     },
     "execution_count": 69,
     "metadata": {},
     "output_type": "execute_result"
    }
   ],
   "source": [
    "[dictionary[tp[0]] for tp in top_5]"
   ]
  },
  {
   "cell_type": "code",
   "execution_count": 73,
   "metadata": {},
   "outputs": [],
   "source": [
    "coherence_model = models.coherencemodel.CoherenceModel(model=lda,corpus=corpus,texts=[dictionary[tp[0]] for tp in top_5])"
   ]
  },
  {
   "cell_type": "code",
   "execution_count": 75,
   "metadata": {},
   "outputs": [
    {
     "data": {
      "text/plain": [
       "nan"
      ]
     },
     "execution_count": 75,
     "metadata": {},
     "output_type": "execute_result"
    }
   ],
   "source": [
    "coherence_model.get_coherence()"
   ]
  },
  {
   "cell_type": "code",
   "execution_count": null,
   "metadata": {},
   "outputs": [],
   "source": []
  }
 ],
 "metadata": {
  "kernelspec": {
   "display_name": "Python 3",
   "language": "python",
   "name": "python3"
  },
  "language_info": {
   "codemirror_mode": {
    "name": "ipython",
    "version": 3
   },
   "file_extension": ".py",
   "mimetype": "text/x-python",
   "name": "python",
   "nbconvert_exporter": "python",
   "pygments_lexer": "ipython3",
   "version": "3.6.5"
  }
 },
 "nbformat": 4,
 "nbformat_minor": 2
}
